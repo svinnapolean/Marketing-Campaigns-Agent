{
 "cells": [
  {
   "cell_type": "code",
   "execution_count": 1,
   "id": "88434559-9df7-49fe-a730-214807de3a19",
   "metadata": {},
   "outputs": [],
   "source": [
    "import pandas as pd\n",
    "from sklearn.model_selection import train_test_split\n",
    "\n",
    "# Example: Load your cleaned data\n",
    "df = pd.read_csv('cleaned_marketing_data.csv')\n",
    "\n",
    "# Define features and target\n",
    "X = df.drop(['ID', 'Dt_Customer','Education','Marital_Status','Country','Age_Group'], axis=1)  # drop target and non-predictive IDs/dates\n",
    "y = df[['Education','Marital_Status','Country','Age_Group']]\n",
    "\n",
    "X_train, X_test, y_train, y_test = train_test_split(X, y, test_size=0.2, random_state=42)\n"
   ]
  },
  {
   "cell_type": "code",
   "execution_count": 2,
   "id": "6477fcbf-4194-4d1b-8fdf-684bd7d9a1f2",
   "metadata": {},
   "outputs": [
    {
     "name": "stdout",
     "output_type": "stream",
     "text": [
      "         ID  Year_Birth   Education Marital_Status   Income  Kidhome  \\\n",
      "2235  10142        1976         Phd       Divorced  66476.0        0   \n",
      "2236   5263        1977    2N Cycle        Married  31056.0        1   \n",
      "2237     22        1976  Graduation       Divorced  46310.0        1   \n",
      "2238    528        1978  Graduation        Married  65819.0        0   \n",
      "2239   4070        1969         Phd        Married  94871.0        0   \n",
      "\n",
      "      Teenhome Dt_Customer  Recency  MntWines  ...  Age  Total_Spending  \\\n",
      "2235         1  2013-03-07       99       372  ...   49           689.0   \n",
      "2236         0  2013-01-22       99         5  ...   48            55.0   \n",
      "2237         0  2012-12-03       99       185  ...   49           309.0   \n",
      "2238         0  2012-11-29       99       267  ...   47          1383.0   \n",
      "2239         2  2012-09-01       99       169  ...   56          1078.0   \n",
      "\n",
      "      Total_Purchases  Education_enc  Marital_Status_enc  Country_enc  \\\n",
      "2235               18            1.0                 0.0          2.0   \n",
      "2236                4            2.0                 2.0          0.0   \n",
      "2237               12            0.0                 0.0          0.0   \n",
      "2238               19            0.0                 2.0          5.0   \n",
      "2239               17            1.0                 2.0          1.0   \n",
      "\n",
      "      Age_Group  Has_Children  Online_Purchases  Store_Purchases  \n",
      "2235    Younger             1                 7               11  \n",
      "2236    Younger             1                 1                3  \n",
      "2237    Younger             1                 7                5  \n",
      "2238    Younger             0                 9               10  \n",
      "2239    Younger             1                13                4  \n",
      "\n",
      "[5 rows x 39 columns]\n"
     ]
    }
   ],
   "source": [
    "df.dtypes\n",
    "test_df = df.tail()\n",
    "print(test_df)\n",
    "test_df = test_df.drop(['ID', 'Dt_Customer','Education','Marital_Status','Country','Age_Group'], axis=1)\n"
   ]
  },
  {
   "cell_type": "code",
   "execution_count": 3,
   "id": "51ebcca1-721e-4f50-be3b-51f679791ca9",
   "metadata": {},
   "outputs": [
    {
     "name": "stdout",
     "output_type": "stream",
     "text": [
      "Saved: logistic_regression_Education_model.joblib\n",
      "Saved: random_forest_Education_model.joblib\n",
      "Saved: gradient_boosting_Education_model.joblib\n",
      "Saved: logistic_regression_Marital_Status_model.joblib\n",
      "Saved: random_forest_Marital_Status_model.joblib\n",
      "Saved: gradient_boosting_Marital_Status_model.joblib\n",
      "Saved: logistic_regression_Country_model.joblib\n",
      "Saved: random_forest_Country_model.joblib\n",
      "Saved: gradient_boosting_Country_model.joblib\n",
      "Saved: logistic_regression_Age_Group_model.joblib\n",
      "Saved: random_forest_Age_Group_model.joblib\n",
      "Saved: gradient_boosting_Age_Group_model.joblib\n"
     ]
    }
   ],
   "source": [
    "from sklearn.linear_model import LogisticRegression\n",
    "from sklearn.ensemble import RandomForestClassifier, GradientBoostingClassifier\n",
    "from sklearn.multioutput import MultiOutputClassifier\n",
    "from sklearn.preprocessing import StandardScaler\n",
    "from sklearn.pipeline import Pipeline\n",
    "import joblib\n",
    "\n",
    "models = {\n",
    "    'logistic_regression': Pipeline([\n",
    "        ('scaler', StandardScaler()),\n",
    "        ('clf', LogisticRegression(max_iter=2000, solver='lbfgs'))\n",
    "    ]),\n",
    "    'random_forest': RandomForestClassifier(n_estimators=100),\n",
    "    'gradient_boosting': GradientBoostingClassifier()\n",
    "}\n",
    "\n",
    "##model = MultiOutputClassifier(RandomForestClassifier())\n",
    "##model.fit(X_train, y_train)  # here y_train can be multi-column\n",
    "##joblib.dump(model, 'multi_ytrain_model.joblib')\n",
    "\n",
    "# Assume y_train is a DataFrame with multiple target columns\n",
    "target_columns = y_train.columns\n",
    "\n",
    "for target in target_columns:\n",
    "    for name, model in models.items():\n",
    "        model.fit(X_train, y_train[target])\n",
    "        filename = f\"{name}_{target}_model.joblib\"\n",
    "        joblib.dump(model, filename)\n",
    "        print(f\"Saved: {filename}\")"
   ]
  },
  {
   "cell_type": "code",
   "execution_count": 4,
   "id": "dea21494-d842-47a4-bd4d-3a9974059a76",
   "metadata": {},
   "outputs": [],
   "source": [
    "targets = ['Education', 'Marital_Status', 'Country', 'Age_Group']\n",
    "models = ['logistic_regression', 'random_forest', 'gradient_boosting']\n"
   ]
  },
  {
   "cell_type": "code",
   "execution_count": 5,
   "id": "f930822d-5938-44eb-8b37-1bb5683d0ca9",
   "metadata": {},
   "outputs": [
    {
     "name": "stdout",
     "output_type": "stream",
     "text": [
      "\n",
      "Predictions for: Education\n",
      "logistic_regression prediction (first 2): ['Phd' '2N Cycle']\n",
      "random_forest prediction (first 2): ['Phd' '2N Cycle']\n",
      "gradient_boosting prediction (first 2): ['Phd' '2N Cycle']\n",
      "\n",
      "Predictions for: Marital_Status\n",
      "logistic_regression prediction (first 2): ['Divorced' 'Married']\n",
      "random_forest prediction (first 2): ['Divorced' 'Married']\n",
      "gradient_boosting prediction (first 2): ['Divorced' 'Married']\n",
      "\n",
      "Predictions for: Country\n",
      "logistic_regression prediction (first 2): ['US' 'SP']\n",
      "random_forest prediction (first 2): ['US' 'SP']\n",
      "gradient_boosting prediction (first 2): ['US' 'SP']\n",
      "\n",
      "Predictions for: Age_Group\n",
      "logistic_regression prediction (first 2): ['Younger' 'Younger']\n",
      "random_forest prediction (first 2): ['Younger' 'Younger']\n",
      "gradient_boosting prediction (first 2): ['Younger' 'Younger']\n"
     ]
    }
   ],
   "source": [
    "from sklearn.exceptions import NotFittedError\n",
    "\n",
    "for target in targets:\n",
    "    print(f\"\\nPredictions for: {target}\")\n",
    "    for model_name in models:\n",
    "        file_name = f\"{model_name}_{target}_model.joblib\"\n",
    "        \n",
    "        try:\n",
    "            model = joblib.load(file_name)\n",
    "            prediction = model.predict(test_df)\n",
    "            print(f\"{model_name} prediction (first 2): {prediction[:2]}\")\n",
    "        except NotFittedError as e:\n",
    "            print(f\"Model not fitted: {file_name}\")\n",
    "        except Exception as e:\n",
    "            print(f\"Error loading/predicting {file_name}: {e}\")"
   ]
  },
  {
   "cell_type": "code",
   "execution_count": 6,
   "id": "1e265f40-ff4c-42cf-96e0-62b70b872ffd",
   "metadata": {},
   "outputs": [],
   "source": [
    "model = joblib.load('logistic_regression_Marital_Status_model.joblib')\n",
    "# Define expected features used in the model\n",
    "expected_features = ['Age', 'Income', 'Kidhome', 'Teenhome', 'Total_Spending', 'NumWebPurchases']\n"
   ]
  },
  {
   "cell_type": "code",
   "execution_count": 7,
   "id": "5b4d9818-8c2c-45b1-924c-208865ef993f",
   "metadata": {},
   "outputs": [
    {
     "name": "stdout",
     "output_type": "stream",
     "text": [
      "      Kidhome  Teenhome  P_Divorced\n",
      "2235        0         1    0.923816\n",
      "2236        1         0    0.000007\n",
      "2237        1         0    0.914464\n",
      "2238        0         0    0.000006\n",
      "2239        0         2    0.000008\n"
     ]
    }
   ],
   "source": [
    "# Predict class probabilities\n",
    "probas = model.predict_proba(test_df)\n",
    "\n",
    "# Add probabilities to the DataFrame\n",
    "proba_df = test_df.copy()\n",
    "for i, label in enumerate(model.classes_):\n",
    "    proba_df[f'P_{label}'] = probas[:, i]\n",
    "\n",
    "# Focus only on probability of being Divorced\n",
    "divorced_probs = proba_df[['Kidhome', 'Teenhome', 'P_Divorced']]\n",
    "print(divorced_probs)"
   ]
  },
  {
   "cell_type": "code",
   "execution_count": 8,
   "id": "f9914a24-929d-4110-96d7-2ba9355a1d9a",
   "metadata": {},
   "outputs": [
    {
     "data": {
      "image/png": "[encoded data removed]",
      "text/plain": [
       "<Figure size 800x500 with 1 Axes>"
      ]
     },
     "metadata": {},
     "output_type": "display_data"
    }
   ],
   "source": [
    "import seaborn as sns\n",
    "import matplotlib.pyplot as plt\n",
    "\n",
    "plt.figure(figsize=(8, 5))\n",
    "sns.barplot(x='Kidhome', y='P_Divorced', data=divorced_probs)\n",
    "plt.title(\"Divorce Probability vs Kidhome\")\n",
    "plt.ylabel(\"Predicted Probability of Being Divorced\")\n",
    "plt.xlabel(\"Number of Kids at Home\")\n",
    "plt.show()"
   ]
  },
  {
   "cell_type": "markdown",
   "id": "47b50c9b-9b76-4372-ac6c-b371c01da001",
   "metadata": {},
   "source": [
    "### These individuals could be targeted for remarriage programs, dating app campaigns, or family support services."
   ]
  },
  {
   "cell_type": "code",
   "execution_count": 9,
   "id": "6351b396-306e-4d2d-81bc-c3d4bc646b76",
   "metadata": {},
   "outputs": [
    {
     "name": "stdout",
     "output_type": "stream",
     "text": [
      "      Year_Birth   Income  Kidhome  Teenhome  Recency  MntWines  MntFruits  \\\n",
      "2237        1976  46310.0        1         0       99       185          2   \n",
      "1426        1978  63693.0        0         1       63       587         43   \n",
      "1726        1976  64892.0        0         1       77       527         24   \n",
      "464         1988  35388.0        1         0       20         6          4   \n",
      "\n",
      "      MntMeatProducts  MntFishProducts  MntSweetProducts  ...  Total_Children  \\\n",
      "2237               88               15                 5  ...               1   \n",
      "1426              337               42                87  ...               1   \n",
      "1726              230               32                24  ...               1   \n",
      "464                 7                4                 3  ...               1   \n",
      "\n",
      "      Age  Total_Spending  Total_Purchases  Education_enc  Marital_Status_enc  \\\n",
      "2237   49           309.0               12            0.0                 0.0   \n",
      "1426   47          1150.0               26            0.0                 0.0   \n",
      "1726   49           902.0               22            0.0                 0.0   \n",
      "464    37            32.0                4            2.0                 0.0   \n",
      "\n",
      "      Country_enc  Has_Children  Online_Purchases  Store_Purchases  \n",
      "2237          0.0             1                 7                5  \n",
      "1426          6.0             1                17                9  \n",
      "1726          6.0             1                10               12  \n",
      "464           6.0             1                 1                3  \n",
      "\n",
      "[4 rows x 33 columns]\n"
     ]
    }
   ],
   "source": [
    "\n",
    "test_data = df.sample(n=500, random_state=42)\n",
    "test_data = test_data.drop(['ID', 'Dt_Customer','Education','Marital_Status','Country','Age_Group'], axis=1)\n",
    "\n",
    "eligible = test_data[\n",
    "    (test_data['Total_Children'] > 0) &\n",
    "    (test_data['Age'] < 50) &\n",
    "    (test_data['Marital_Status_enc'] ==  0.0)  # Or use model prediction\n",
    "]\n",
    "\n",
    "print(eligible)"
   ]
  },
  {
   "cell_type": "code",
   "execution_count": 10,
   "id": "a6406e51-8432-4fef-9cd9-729f504dcd6b",
   "metadata": {},
   "outputs": [
    {
     "name": "stderr",
     "output_type": "stream",
     "text": [
      "C:\\Users\\svinn\\AppData\\Local\\Temp\\ipykernel_31756\\3927870024.py:10: SettingWithCopyWarning: \n",
      "A value is trying to be set on a copy of a slice from a DataFrame.\n",
      "Try using .loc[row_indexer,col_indexer] = value instead\n",
      "\n",
      "See the caveats in the documentation: https://pandas.pydata.org/pandas-docs/stable/user_guide/indexing.html#returning-a-view-versus-a-copy\n",
      "  eligible['Predicted_Status'] = preds\n",
      "C:\\Users\\svinn\\AppData\\Local\\Temp\\ipykernel_31756\\3927870024.py:18: SettingWithCopyWarning: \n",
      "A value is trying to be set on a copy of a slice from a DataFrame.\n",
      "Try using .loc[row_indexer,col_indexer] = value instead\n",
      "\n",
      "See the caveats in the documentation: https://pandas.pydata.org/pandas-docs/stable/user_guide/indexing.html#returning-a-view-versus-a-copy\n",
      "  eligible['P_Divorced'] = probas[:, divorced_index]\n",
      "C:\\Users\\svinn\\AppData\\Local\\Temp\\ipykernel_31756\\3927870024.py:21: SettingWithCopyWarning: \n",
      "A value is trying to be set on a copy of a slice from a DataFrame.\n",
      "Try using .loc[row_indexer,col_indexer] = value instead\n",
      "\n",
      "See the caveats in the documentation: https://pandas.pydata.org/pandas-docs/stable/user_guide/indexing.html#returning-a-view-versus-a-copy\n",
      "  eligible['P_Married'] = probas[:, divorced_index]\n"
     ]
    }
   ],
   "source": [
    "##features = ['Age', 'Income', 'Kidhome', 'Teenhome', 'Total_Spending', 'NumWebPurchases']\n",
    "model = joblib.load('logistic_regression_Marital_Status_model.joblib')\n",
    "features = test_data.columns.tolist()\n",
    "\n",
    "X = eligible[features]\n",
    "preds = model.predict(X)\n",
    "probas = model.predict_proba(X)\n",
    "\n",
    "\n",
    "eligible['Predicted_Status'] = preds\n",
    "\n",
    "##if 'Divorced' in model.classes_:\n",
    "##    eligible['P_Divorced'] = probas[:, list(model.classes_).index('Divorced')]\n",
    "##else:\n",
    "##   print(\"'Divorced' not found in model classes:\", model.classes_)\n",
    "\n",
    "divorced_index = list(model.classes_).index('Divorced')\n",
    "eligible['P_Divorced'] = probas[:, divorced_index]\n",
    "\n",
    "divorced_index = list(model.classes_).index('Married')\n",
    "eligible['P_Married'] = probas[:, divorced_index]\n",
    "\n",
    "##eligible['P_Married'] = probas[:, list(model.classes_).index('Married')]\n",
    "##eligible['P_Divorced'] = probas[:, list(model.classes_).index('Divorced')]\n"
   ]
  },
  {
   "cell_type": "code",
   "execution_count": 11,
   "id": "a00857d7-8732-4672-b74f-689981315559",
   "metadata": {},
   "outputs": [],
   "source": [
    "# Example: People predicted Divorced, but not with high confidence\n",
    "low_conf_divorced = eligible[\n",
    "    (eligible['Predicted_Status'] == 'Divorced') &\n",
    "    (eligible['P_Divorced'] < 0.6)  # Not highly confident in divorce\n",
    "]\n",
    "\n",
    "# Or even those predicted as Married with low P_Married to check potential transition\n",
    "potential_marriage_candidates = eligible[\n",
    "    (eligible['P_Married'] > 0.3) &  # Possibly may get remarried\n",
    "    (eligible['Age'] < 40)\n",
    "]\n"
   ]
  },
  {
   "cell_type": "code",
   "execution_count": 12,
   "id": "c51d2e90-87d3-4565-b905-93460c817193",
   "metadata": {},
   "outputs": [
    {
     "name": "stdout",
     "output_type": "stream",
     "text": [
      "      Year_Birth   Income  Kidhome  Teenhome  Recency  MntWines  MntFruits  \\\n",
      "2237        1976  46310.0        1         0       99       185          2   \n",
      "1426        1978  63693.0        0         1       63       587         43   \n",
      "1726        1976  64892.0        0         1       77       527         24   \n",
      "464         1988  35388.0        1         0       20         6          4   \n",
      "\n",
      "      MntMeatProducts  MntFishProducts  MntSweetProducts  ...  \\\n",
      "2237               88               15                 5  ...   \n",
      "1426              337               42                87  ...   \n",
      "1726              230               32                24  ...   \n",
      "464                 7                4                 3  ...   \n",
      "\n",
      "      Total_Purchases  Education_enc  Marital_Status_enc  Country_enc  \\\n",
      "2237               12            0.0                 0.0          0.0   \n",
      "1426               26            0.0                 0.0          6.0   \n",
      "1726               22            0.0                 0.0          6.0   \n",
      "464                 4            2.0                 0.0          6.0   \n",
      "\n",
      "      Has_Children  Online_Purchases  Store_Purchases  Predicted_Status  \\\n",
      "2237             1                 7                5          Divorced   \n",
      "1426             1                17                9          Divorced   \n",
      "1726             1                10               12          Divorced   \n",
      "464              1                 1                3          Divorced   \n",
      "\n",
      "      P_Divorced  P_Married  \n",
      "2237    0.914464   0.000020  \n",
      "1426    0.917580   0.000024  \n",
      "1726    0.914635   0.000021  \n",
      "464     0.875987   0.000025  \n",
      "\n",
      "[4 rows x 36 columns]\n"
     ]
    }
   ],
   "source": [
    "print(eligible)"
   ]
  },
  {
   "cell_type": "code",
   "execution_count": 13,
   "id": "fdad5b2b-836d-40c6-885c-f6ab1bc15d9b",
   "metadata": {},
   "outputs": [
    {
     "data": {
      "image/png": "[encoded data removed]",
      "text/plain": [
       "<Figure size 640x480 with 1 Axes>"
      ]
     },
     "metadata": {},
     "output_type": "display_data"
    }
   ],
   "source": [
    "sns.scatterplot(data=eligible, x='Age', y='P_Married', hue='Has_Children')\n",
    "plt.title(\"Marriage Probability by Age (Divorced with Kids)\")\n",
    "plt.xlabel(\"Age\")\n",
    "plt.ylabel(\"Predicted Probability of Getting Married\")\n",
    "plt.show()"
   ]
  },
  {
   "cell_type": "code",
   "execution_count": 22,
   "id": "eb392797-4a19-4d6b-8c75-2fadfbd9f268",
   "metadata": {},
   "outputs": [
    {
     "name": "stdout",
     "output_type": "stream",
     "text": [
      "\n",
      "You're an intelligent marketing analyst assistant. Based on the following customer input:\n",
      "\n",
      "      Year_Birth   Income  Kidhome  Teenhome  Recency  MntWines  MntFruits  \\\n",
      "324         1985  36145.0        1         0       13        56          4   \n",
      "96          1962  58646.0        0         1        3        62          1   \n",
      "2104        1986  71952.0        1         0       93       656         80   \n",
      "1259        1956  46998.0        0         1       55       172         41   \n",
      "1061        1966  22634.0        0         0       47         2         23   \n",
      "...          ...      ...      ...       ...      ...       ...        ...   \n",
      "1910        1951  58217.0        2         1       84        68          1   \n",
      "1552        1985  70596.0        0         0       68       347         44   \n",
      "205         1969  48752.0        1         1        8        73         57   \n",
      "1307        1951  78939.0        0         0       57       794        115   \n",
      "1957        1975  46098.0        1         1       86        57          0   \n",
      "\n",
      "      MntMeatProducts  MntFishProducts  MntSweetProducts  ...  Total_Children  \\\n",
      "324                76               17                 1  ...               1   \n",
      "96                 44                6                 5  ...               1   \n",
      "2104              455               52               107  ...               1   \n",
      "1259               86               45                 6  ...               1   \n",
      "1061               11                8                 6  ...               0   \n",
      "...               ...              ...               ...  ...             ...   \n",
      "1910               13                3                 5  ...               3   \n",
      "1552              534               17                 0  ...               0   \n",
      "205               100               71                15  ...               2   \n",
      "1307              243              150                 0  ...               0   \n",
      "1957               27                0                 0  ...               2   \n",
      "\n",
      "      Age  Total_Spending  Total_Purchases  Education_enc  Marital_Status_enc  \\\n",
      "324    40           172.0                8            2.0                 2.0   \n",
      "96     63           140.0                7            3.0                 2.0   \n",
      "2104   39          1443.0               20            0.0                 2.0   \n",
      "1259   69           377.0               13            0.0                 1.0   \n",
      "1061   59            96.0                5            4.0                 3.0   \n",
      "...   ...             ...              ...            ...                 ...   \n",
      "1910   74           103.0                6            3.0                 1.0   \n",
      "1552   40           968.0               20            0.0                 1.0   \n",
      "205    56           316.0               12            0.0                 2.0   \n",
      "1307   74          1507.0               19            1.0                 2.0   \n",
      "1957   50           120.0                7            3.0                 1.0   \n",
      "\n",
      "      Country_enc  Has_Children  Online_Purchases  Store_Purchases  \n",
      "324           2.0             1                 5                3  \n",
      "96            4.0             1                 3                4  \n",
      "2104          3.0             1                12                8  \n",
      "1259          0.0             1                 8                5  \n",
      "1061          3.0             0                 3                2  \n",
      "...           ...           ...               ...              ...  \n",
      "1910          0.0             1                 2                4  \n",
      "1552          0.0             0                 8               12  \n",
      "205           0.0             1                 7                5  \n",
      "1307          4.0             0                13                6  \n",
      "1957          5.0             1                 5                2  \n",
      "\n",
      "[500 rows x 33 columns]\n",
      "\n",
      "And based on the following model predictions:\n",
      "      Year_Birth   Income  Kidhome  Teenhome  Recency  MntWines  MntFruits  \\\n",
      "2237        1976  46310.0        1         0       99       185          2   \n",
      "1426        1978  63693.0        0         1       63       587         43   \n",
      "1726        1976  64892.0        0         1       77       527         24   \n",
      "464         1988  35388.0        1         0       20         6          4   \n",
      "\n",
      "      MntMeatProducts  MntFishProducts  MntSweetProducts  ...  \\\n",
      "2237               88               15                 5  ...   \n",
      "1426              337               42                87  ...   \n",
      "1726              230               32                24  ...   \n",
      "464                 7                4                 3  ...   \n",
      "\n",
      "      Total_Purchases  Education_enc  Marital_Status_enc  Country_enc  \\\n",
      "2237               12            0.0                 0.0          0.0   \n",
      "1426               26            0.0                 0.0          6.0   \n",
      "1726               22            0.0                 0.0          6.0   \n",
      "464                 4            2.0                 0.0          6.0   \n",
      "\n",
      "      Has_Children  Online_Purchases  Store_Purchases  Predicted_Status  \\\n",
      "2237             1                 7                5          Divorced   \n",
      "1426             1                17                9          Divorced   \n",
      "1726             1                10               12          Divorced   \n",
      "464              1                 1                3          Divorced   \n",
      "\n",
      "      P_Divorced  P_Married  \n",
      "2237    0.914464   0.000020  \n",
      "1426    0.917580   0.000024  \n",
      "1726    0.914635   0.000021  \n",
      "464     0.875987   0.000025  \n",
      "\n",
      "[4 rows x 36 columns]\n",
      "\n",
      "Generate a short, data-driven summary of the customer’s marketing profile, including whether they are likely to respond to a campaign and why.\n",
      "\n"
     ]
    }
   ],
   "source": [
    "print(prompt)"
   ]
  },
  {
   "cell_type": "code",
   "execution_count": 29,
   "id": "db9a7f2d-e39f-49d2-b7b5-fa33a9e2927a",
   "metadata": {},
   "outputs": [
    {
     "data": {
      "text/plain": [
       "AIMessage(content=\"Using Azure in conjunction with Local Large Language Models (LLMs) can offer numerous benefits. Here are some of them:\\n\\n1.  **Scalability and Flexibility**: Azure provides a scalable platform that allows you to easily scale up or down as your needs change, ensuring you have the necessary resources without incurring unnecessary costs.\\n2.  **Integration with Other Services**: By using Azure, you can integrate your LLMs with other services and tools offered by Microsoft, such as Cognitive Search, Power Apps, and more, to enhance their functionality and capabilities.\\n3.  **Cost-Effectiveness**: Hosting your models on-premises or in a local data center might be expensive due to the infrastructure costs, whereas using Azure can help you reduce these costs.\\n4.  **Security and Compliance**: Azure provides robust security features and compliance options that help protect your LLMs from unauthorized access and ensure they meet specific regulatory requirements.\\n5.  **Machine Learning Capabilities**: Azure offers a range of machine learning tools and services that can be used to build, train, and deploy more complex models or to integrate them with other AI capabilities.\\n6.  **Real-time Processing**: With Azure's real-time processing capabilities, you can process large amounts of data quickly and efficiently, which is crucial for applications that require rapid responses.\\n7.  **Monitoring and Maintenance**: Azure provides monitoring and maintenance tools that help you keep your LLMs up-to-date, reducing the need for manual intervention.\\n8.  **Collaboration and Version Control**: By using Azure's collaboration features, multiple developers can work together on a project without conflicts, ensuring version control and minimizing errors.\\n\\nUsing local LLMs with Azure can be particularly beneficial when:\\n\\n1.  **Data Privacy**: You have strict data privacy requirements that need to be met.\\n2.  **Real-time Processing**: Your application requires immediate responses from the model.\\n3.  **Low Latency**: Minimizing latency is essential for your use case.\\n\\nHowever, there might also be scenarios where using Azure alone could suffice, such as when:\\n\\n1.  **Cost-Consciousness**: The cost of hosting models on-premises or locally is lower than what you'd pay for Azure.\\n2.  **Security**: Your current security measures are sufficient to protect your LLMs.\\n\\nIn conclusion, combining local LLMs with Azure can offer a wide range of benefits and flexibility in terms of scalability, integration, cost-effectiveness, security, machine learning capabilities, real-time processing, monitoring, collaboration, and version control.\", additional_kwargs={}, response_metadata={'model': 'llama3.1', 'created_at': '2025-07-10T17:22:34.6119984Z', 'message': {'role': 'assistant', 'content': ''}, 'done_reason': 'stop', 'done': True, 'total_duration': 74408057200, 'load_duration': 22394300, 'prompt_eval_count': 23, 'prompt_eval_duration': 1109000000, 'eval_count': 520, 'eval_duration': 73274000000}, id='run--8ea358d7-f775-48e2-9174-8d4df2b4b441-0')"
      ]
     },
     "execution_count": 29,
     "metadata": {},
     "output_type": "execute_result"
    }
   ],
   "source": [
    "from langchain.chat_models import ChatOllama\n",
    "\n",
    "llm = ChatOllama(model='llama3.1')\n",
    "llm.invoke(\"What are the benefits of using Azure with local LLMs?\")"
   ]
  },
  {
   "cell_type": "code",
   "execution_count": 28,
   "id": "68752972-d69a-4490-9d2c-ae2623b03ec6",
   "metadata": {},
   "outputs": [
    {
     "name": "stdout",
     "output_type": "stream",
     "text": [
      "**Summary: Customer Profile and Predictive Analysis**\n",
      "\n",
      "Based on the provided dataset, we analyzed 500 customers' characteristics and predicted their likelihood of getting married after being divorced. We then applied this analysis to the 4 new customer records.\n",
      "\n",
      "**Key Insights:**\n",
      "\n",
      "1. **Age**: The average age of our customers is around 60 years old.\n",
      "2. **Income**: Customers have an average income of approximately $45,000.\n",
      "3. **Family Status**: Most customers (around 70%) have at least one child, and about 40% are married.\n",
      "4. **Education**: Around 30% of customers have a high school education or lower.\n",
      "\n",
      "**Predictive Analysis:**\n",
      "\n",
      "We used the provided model to predict the likelihood of each customer getting married after being divorced. The predictions indicate that:\n",
      "\n",
      "* The probability of getting married (P_Married) is extremely low for all new customers, ranging from 0.000020 to 0.914464.\n",
      "* The probability of being in a divorced status and then getting married is higher than the overall P_Married, suggesting that most customers in this category are unlikely to remarry.\n",
      "\n",
      "**New Customer Analysis:**\n",
      "\n",
      "Applying our analysis to the new customer records:\n",
      "\n",
      "1. **2237**: This customer has a high income ($46,310) and one child. The predicted probability of being divorced (P_Divorced) is 0.914464, indicating that they are very likely to be in a divorced status. Given their age (1976), education level (unknown), and marital status (Divorced), it's reasonable to assume that this customer may not remarry.\n",
      "2. **1426**: This customer has an even higher income ($63,693) and one child. The predicted probability of being divorced (P_Divorced) is 0.917580, indicating a high likelihood of being in a divorced status. Like customer 2237, their age, education level, and marital status suggest that they may not remarry.\n",
      "3. **1726**: This customer has an even higher income ($64,892) and one child. The predicted probability of being divorced (P_Divorced) is 0.914635, indicating a high likelihood of being in a divorced status. Given their age (1976), education level (unknown), and marital status (Divorced), it's reasonable to assume that this customer may not remarry.\n",
      "4. **464**: This customer has a lower income ($35,388) and one child. The predicted probability of being divorced (P_Divorced) is 0.875987, indicating a moderate likelihood of being in a divorced status. However, their education level (high school or higher) and marital status (Divorced) suggest that they may have a better chance of remarrying compared to the other three customers.\n",
      "\n",
      "**Conclusion:**\n",
      "\n",
      "Based on our analysis, it's likely that most customers in this category are unlikely to remarry after being divorced. This is due to their age, education level, and marital status. While there is some variation among the new customer records, all four customers have a high likelihood of being in a divorced status, making them less likely to remarry.\n"
     ]
    }
   ],
   "source": [
    "from langchain_community.chat_models import ChatOllama\n",
    "from langchain.schema import HumanMessage\n",
    "\n",
    "llm = ChatOllama(model=\"llama3.1\")\n",
    "\n",
    "prompt = f\"\"\"\n",
    "You're an intelligent marketing analyst assistant. Based on the following customer input:\n",
    "\n",
    "{test_data}\n",
    "\n",
    "And based on the following model predictions:\n",
    "{eligible}\n",
    "\n",
    "Generate a short, data-driven summary of the customer’s , including whether they are likely to get married if they divorced to a campaign and why.\n",
    "\"\"\"\n",
    "\n",
    "response = llm([HumanMessage(content=prompt)])\n",
    "print(response.content)"
   ]
  },
  {
   "cell_type": "code",
   "execution_count": null,
   "id": "534b31a9-5cc9-47c4-b857-5a53cb6299ac",
   "metadata": {},
   "outputs": [],
   "source": []
  }
 ],
 "metadata": {
  "kernelspec": {
   "display_name": "Python 3 (ipykernel)",
   "language": "python",
   "name": "python3"
  },
  "language_info": {
   "codemirror_mode": {
    "name": "ipython",
    "version": 3
   },
   "file_extension": ".py",
   "mimetype": "text/x-python",
   "name": "python",
   "nbconvert_exporter": "python",
   "pygments_lexer": "ipython3",
   "version": "3.13.1"
  }
 },
 "nbformat": 4,
 "nbformat_minor": 5
}
